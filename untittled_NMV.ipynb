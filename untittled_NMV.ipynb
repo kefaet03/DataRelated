{
 "cells": [
  {
   "cell_type": "code",
   "execution_count": 1,
   "metadata": {},
   "outputs": [],
   "source": [
    "import pandas as pd\n",
    "import numpy as np\n",
    "from itertools import product\n",
    "file_path = 'C:\\\\Users\\\\LENOVO\\\\Downloads\\\\Telegram Desktop\\\\INPUT.xlsx'"
   ]
  },
  {
   "cell_type": "code",
   "execution_count": 2,
   "metadata": {},
   "outputs": [
    {
     "name": "stdout",
     "output_type": "stream",
     "text": [
      "[0.1, 0.2, 0.3]\n",
      "[0.1, 0.2, 0.3, 0.4, 0.5, 0.6, 0.7, 0.8]\n",
      "0.5 0.6\n",
      "1.5\n"
     ]
    }
   ],
   "source": [
    "excel_data = pd.read_excel(file_path)\n",
    "\n",
    "weights = excel_data.iloc[1:4, 9].tolist()\n",
    "\n",
    "print(weights)\n",
    "\n",
    "criteria = excel_data.iloc[1:9, 11].tolist()\n",
    "\n",
    "print(criteria)\n",
    "\n",
    "p_q = excel_data.iloc[1:3,13].tolist()\n",
    "p=p_q[0]\n",
    "q=p_q[1]\n",
    "print(p,q)\n",
    "\n",
    "lambdA = excel_data.iloc[1:2,14].tolist()\n",
    "l = lambdA[0]\n",
    "print(l)"
   ]
  },
  {
   "cell_type": "code",
   "execution_count": 4,
   "metadata": {},
   "outputs": [],
   "source": [
    "def calculation2():\n",
    "    combinations = list(product(*dataset2.values))\n",
    "    combination_2 = pd.DataFrame(combinations, columns=[f\"Col {m+1}\" for m in range(8)])\n",
    "    \n",
    "    combo_values = combination_2.to_numpy()\n",
    "    n = combo_values.shape[1]\n",
    "    print(n)\n",
    "\n",
    "    criteria_arr = np.array(criteria)\n",
    "    mask = ~np.isnan(combo_values) & np.isin(combo_values, [int, float])\n",
    "\n",
    "    aggregation2_values = np.prod(combo_values ** criteria_arr, axis=1)\n",
    "    combination_2['Aggregation2'] = aggregation2_values\n",
    "\n",
    "    print(\"yes2\")\n",
    "    \n",
    "    new_df = combination_2[['Aggregation2']]\n",
    "    \n",
    "    new_dataset_path = f\"{path}T2\"\n",
    "    new_df.to_csv(new_dataset_path, index=False)\n"
   ]
  },
  {
   "cell_type": "code",
   "execution_count": 3,
   "metadata": {},
   "outputs": [],
   "source": [
    "def calculation1():\n",
    "    combinations = list(product(*dataset1.values))\n",
    "\n",
    "    combination_1 = pd.DataFrame(combinations, columns=[f\"Col {m+1}\" for m in range(8)])\n",
    "\n",
    "    combo_values = combination_1.to_numpy()\n",
    "    n = combo_values.shape[1]\n",
    "\n",
    "    criteria_arr = np.array(criteria)\n",
    "    mask = ~np.isnan(combo_values) & np.isin(combo_values, [int, float])\n",
    "\n",
    "    aggregation1_values = 1 - np.prod((1 - combo_values) ** criteria_arr, axis=1)\n",
    "    combination_1['Aggregation1'] = aggregation1_values\n",
    "\n",
    "    new_df = combination_1[['Aggregation1']]\n",
    "\n",
    "    print(path)\n",
    "    new_dataset_path = f\"{path}T1\"\n",
    "    new_df.to_csv(new_dataset_path, index=False)"
   ]
  },
  {
   "cell_type": "code",
   "execution_count": 5,
   "metadata": {},
   "outputs": [],
   "source": [
    "def calculation3():\n",
    "    combinations = list(product(*dataset3.values))\n",
    "    combination_3 = pd.DataFrame(combinations, columns=[f\"Col {m+1}\" for m in range(8)])\n",
    "    \n",
    "    combo_values = combination_3.to_numpy()\n",
    "    n = combo_values.shape[1]\n",
    "\n",
    "    criteria_arr = np.array(criteria)\n",
    "    mask = ~np.isnan(combo_values) & np.isin(combo_values, [int, float])\n",
    "\n",
    "    aggregation3_values = 1 - (1 - np.prod((1-(1 - combo_values)** l )** criteria_arr, axis=1)) ** (1 / l)\n",
    "    combination_3['Aggregation3'] = aggregation3_values\n",
    "    print(\"yes3\")\n",
    "\n",
    "    new_df = combination_3[['Aggregation3']]\n",
    "    \n",
    "    new_dataset_path = f\"{path}T3\"\n",
    "    new_df.to_csv(new_dataset_path, index=False)"
   ]
  },
  {
   "cell_type": "code",
   "execution_count": 6,
   "metadata": {},
   "outputs": [],
   "source": [
    "def calculate_aggregation_vectorized(combo_values, criteria, p, q):\n",
    "\n",
    "    # Convert to numpy array for efficient computation\n",
    "    n = combo_values.shape[1]\n",
    "    \n",
    "    # Mask to filter out NaN values\n",
    "    mask = np.isfinite(combo_values)  # True for finite values, False for NaNs\n",
    "\n",
    "    # Precompute terms for each row to avoid nested looping\n",
    "    term_i = (1 - combo_values**criteria) ** p\n",
    "    term_j = (1 - combo_values**criteria) ** q\n",
    "\n",
    "    # Create a product matrix for element-wise multiplication\n",
    "    inner_product_matrix = 1\n",
    "\n",
    "    for i in range(n):\n",
    "        for j in range(i, n):\n",
    "            # Only include element-wise values that are finite in both columns i and j\n",
    "            element_mask = mask[:, i] & mask[:, j]\n",
    "            if np.any(element_mask):  # Proceed only if there are any valid pairs\n",
    "                inner_term = 1 - (term_i[element_mask, i] * term_j[element_mask, j])\n",
    "                inner_term = inner_term ** (2 / (n * (n + 1)))\n",
    "                \n",
    "                # Update only those rows in inner_product_matrix where element_mask is True\n",
    "                inner_product_matrix*= inner_term\n",
    "                # print(\"INNER_TERM:\", inner_term)\n",
    "    # Calculate final result\n",
    "    final_result = (1 - inner_product_matrix) ** (1 / (p + q))\n",
    "    return final_result"
   ]
  },
  {
   "cell_type": "code",
   "execution_count": 7,
   "metadata": {},
   "outputs": [],
   "source": [
    "def calculation4():\n",
    "    # Generate all combinations from dataset4 values and create a DataFrame\n",
    "    combinations = list(product(*dataset4.values))\n",
    "    combination_4 = pd.DataFrame(combinations, columns=[f\"Col {m+1}\" for m in range(8)])\n",
    "    \n",
    "    combo_values = combination_4.to_numpy()\n",
    "    n = combo_values.shape[1]\n",
    "    print(n)\n",
    "\n",
    "    combination_4['Aggregation4'] = calculate_aggregation_vectorized(combo_values, criteria, p, q)\n",
    "\n",
    "    new_df = combination_4[['Aggregation4']]\n",
    "    print(\"YES4\")\n",
    "    \n",
    "    # Save to CSV\n",
    "    new_dataset_path = f\"{path}T4\"\n",
    "    new_df.to_csv(new_dataset_path, index=False)"
   ]
  },
  {
   "cell_type": "code",
   "execution_count": 11,
   "metadata": {},
   "outputs": [
    {
     "name": "stdout",
     "output_type": "stream",
     "text": [
      "preS10\n",
      "8\n",
      "yes2\n",
      "yes3\n",
      "8\n",
      "YES4\n"
     ]
    }
   ],
   "source": [
    "import pandas as pd\n",
    "\n",
    "for i in range (10,11):\n",
    "    dataset1 = pd.DataFrame()\n",
    "    dataset2 = pd.DataFrame()\n",
    "    dataset3 = pd.DataFrame()\n",
    "    dataset4 = pd.DataFrame()\n",
    "    for j in range (1,9):\n",
    "        file_path = f\"E:\\\\He_is_enough03 X UniqoXTech X Dreams\\\\Click_here\\\\Data Related R\\\\Agg1\\\\NMV\\\\Agg1_S{i}C{j}\"\n",
    "        data = pd.read_csv(file_path)\n",
    "        \n",
    "        dataset1 = pd.concat([dataset1, data[['Aggregation1']].reset_index(drop=True)], axis=1)\n",
    "        dataset2 = pd.concat([dataset2, data[['Aggregation2']].reset_index(drop=True)], axis=1)\n",
    "        dataset3 = pd.concat([dataset3, data[['Aggregation3']].reset_index(drop=True)], axis=1)\n",
    "        dataset4 = pd.concat([dataset4, data[['Aggregation4']].reset_index(drop=True)], axis=1)\n",
    "        \n",
    "        if j==8:\n",
    "            path = f\"preS{i}\"\n",
    "            dataset1 = dataset1.T\n",
    "            dataset1.to_csv(path+\"1\",index=False)\n",
    "            dataset2 = dataset2.T\n",
    "            dataset2.to_csv(path+\"2\",index=False)\n",
    "            dataset3 = dataset3.T\n",
    "            dataset3.to_csv(path+\"3\",index=False)\n",
    "            dataset4 = dataset4.T\n",
    "            dataset4.to_csv(path+\"4\",index=False)\n",
    "            calculation1()\n",
    "            calculation2()\n",
    "            calculation3()\n",
    "            calculation4()\n",
    "        "
   ]
  },
  {
   "cell_type": "code",
   "execution_count": null,
   "metadata": {},
   "outputs": [],
   "source": []
  },
  {
   "cell_type": "code",
   "execution_count": null,
   "metadata": {},
   "outputs": [],
   "source": []
  }
 ],
 "metadata": {
  "kernelspec": {
   "display_name": "Python 3",
   "language": "python",
   "name": "python3"
  },
  "language_info": {
   "codemirror_mode": {
    "name": "ipython",
    "version": 3
   },
   "file_extension": ".py",
   "mimetype": "text/x-python",
   "name": "python",
   "nbconvert_exporter": "python",
   "pygments_lexer": "ipython3",
   "version": "3.12.6"
  }
 },
 "nbformat": 4,
 "nbformat_minor": 2
}
