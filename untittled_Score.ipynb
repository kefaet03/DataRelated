{
 "cells": [
  {
   "cell_type": "code",
   "execution_count": 9,
   "metadata": {},
   "outputs": [
    {
     "name": "stderr",
     "output_type": "stream",
     "text": [
      "<>:9: SyntaxWarning: invalid escape sequence '\\p'\n",
      "<>:10: SyntaxWarning: invalid escape sequence '\\p'\n",
      "<>:9: SyntaxWarning: invalid escape sequence '\\p'\n",
      "<>:10: SyntaxWarning: invalid escape sequence '\\p'\n",
      "C:\\Users\\LENOVO\\AppData\\Local\\Temp\\ipykernel_20020\\799435076.py:9: SyntaxWarning: invalid escape sequence '\\p'\n",
      "  mv_dataset = f\"E:\\\\He_is_enough03 X UniqoXTech X Dreams\\\\Click_here\\\\Data Related R\\\\Agg2\\\\MV\\preS{i}T{j}\"\n",
      "C:\\Users\\LENOVO\\AppData\\Local\\Temp\\ipykernel_20020\\799435076.py:10: SyntaxWarning: invalid escape sequence '\\p'\n",
      "  nmv_dataset = f\"E:\\\\He_is_enough03 X UniqoXTech X Dreams\\\\Click_here\\\\Data Related R\\\\Agg2\\\\NMV\\preS{i}T{j}\"\n"
     ]
    }
   ],
   "source": [
    "import pandas as pd\n",
    "\n",
    "score = [[0 for _ in range(4)] for _ in range(10)]\n",
    "\n",
    "for i in range (1,11):\n",
    "    for j in range (1,5):\n",
    "        mv_sum,mv_count,mv_avg = 0.0,16777217,0.0\n",
    "        nmv_sum,nmv_count,nmv_avg = 0.0,16777217,0.0\n",
    "        mv_dataset = f\"E:\\\\He_is_enough03 X UniqoXTech X Dreams\\\\Click_here\\\\Data Related R\\\\Agg2\\\\MV\\preS{i}T{j}\"\n",
    "        nmv_dataset = f\"E:\\\\He_is_enough03 X UniqoXTech X Dreams\\\\Click_here\\\\Data Related R\\\\Agg2\\\\NMV\\preS{i}T{j}\"\n",
    "\n",
    "        chunk_size = 10**6\n",
    "        column_name = f\"Aggregation{j}\"\n",
    "\n",
    "        for chunk in pd.read_csv(mv_dataset, chunksize=chunk_size):\n",
    "            mv_sum += chunk[column_name].sum()\n",
    "            mv_count += chunk[column_name].count()\n",
    "        mv_avg = mv_sum/mv_count\n",
    "\n",
    "        for chunk in pd.read_csv(nmv_dataset, chunksize=chunk_size):\n",
    "            mv_sum += chunk[column_name].sum()\n",
    "            mv_count += chunk[column_name].count()\n",
    "        nmv_avg = nmv_sum/nmv_count\n",
    "\n",
    "        score[i-1][j-1] = mv_avg-nmv_avg\n",
    "\n"
   ]
  },
  {
   "cell_type": "code",
   "execution_count": 10,
   "metadata": {},
   "outputs": [],
   "source": [
    "dataset_score = pd.DataFrame(score, columns=['Equation1', 'Equation2', 'Equation3', 'Equation4'])  \n",
    "dataset_score.to_csv('Scores.csv', index=False)"
   ]
  },
  {
   "cell_type": "code",
   "execution_count": null,
   "metadata": {},
   "outputs": [],
   "source": []
  },
  {
   "cell_type": "code",
   "execution_count": null,
   "metadata": {},
   "outputs": [],
   "source": []
  }
 ],
 "metadata": {
  "kernelspec": {
   "display_name": "Python 3",
   "language": "python",
   "name": "python3"
  },
  "language_info": {
   "codemirror_mode": {
    "name": "ipython",
    "version": 3
   },
   "file_extension": ".py",
   "mimetype": "text/x-python",
   "name": "python",
   "nbconvert_exporter": "python",
   "pygments_lexer": "ipython3",
   "version": "3.12.6"
  }
 },
 "nbformat": 4,
 "nbformat_minor": 2
}
